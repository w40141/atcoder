{
 "cells": [
  {
   "cell_type": "code",
   "execution_count": 28,
   "metadata": {},
   "outputs": [
    {
     "name": "stdout",
     "output_type": "stream",
     "text": [
      "dreameraser\n",
      "No\n"
     ]
    }
   ],
   "source": [
    "def check_str(scr):\n",
    "    if scr:\n",
    "        dream eraser\n",
    "        t_li = ['dream', 'dreamer', 'erase', 'eraser']\n",
    "        for t in t_li:\n",
    "            if scr[:len(t)] == t:\n",
    "                return scr[len(t):]\n",
    "        else:\n",
    "            print('No')\n",
    "            return 0\n",
    "    else:\n",
    "        print('Yes')\n",
    "        return 0\n",
    "\n",
    "s = input()\n",
    "# s = 'erasedreams'\n",
    "while(s!=0):\n",
    "    s = check_str(s)"
   ]
  },
  {
   "cell_type": "code",
   "execution_count": null,
   "metadata": {},
   "outputs": [],
   "source": []
  }
 ],
 "metadata": {
  "kernelspec": {
   "display_name": "Python 3",
   "language": "python",
   "name": "python3"
  },
  "language_info": {
   "codemirror_mode": {
    "name": "ipython",
    "version": 3
   },
   "file_extension": ".py",
   "mimetype": "text/x-python",
   "name": "python",
   "nbconvert_exporter": "python",
   "pygments_lexer": "ipython3",
   "version": "3.7.2"
  }
 },
 "nbformat": 4,
 "nbformat_minor": 2
}
