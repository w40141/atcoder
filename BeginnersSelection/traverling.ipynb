{
 "cells": [
  {
   "cell_type": "code",
   "execution_count": 41,
   "metadata": {},
   "outputs": [
    {
     "name": "stdout",
     "output_type": "stream",
     "text": [
      "2\n",
      "5 1 1\n",
      "100 1 1\n",
      "No\n"
     ]
    }
   ],
   "source": [
    "def str_split(input_str):\n",
    "    str_s = input_str.split()\n",
    "    int_split = list(map(int, str_s))\n",
    "    return int_split\n",
    "\n",
    "def sub_distance(t1, t2):\n",
    "    distance = abs(t1[1] - t2[1]) + abs(t1[2] - t2[2])\n",
    "    time_sub = t2[0] - t1[0]\n",
    "    if time_sub < distance:\n",
    "        return 1\n",
    "    else:\n",
    "        if is_even(distance) == is_even(time_sub):\n",
    "            return 0\n",
    "        else:\n",
    "            return 1\n",
    "\n",
    "def is_even(num):\n",
    "    if num % 2 == 0:\n",
    "        return 'even'\n",
    "    else:\n",
    "        return 'odd'\n",
    "        \n",
    "num = int(input())\n",
    "zahyo = [[0, 0, 0]] + [str_split(input()) for _ in range(num)]\n",
    "flag = 0\n",
    "for i in range(num):\n",
    "    flag += sub_distance(zahyo[i], zahyo[i+1])\n",
    "if flag:\n",
    "    print('No')\n",
    "else:\n",
    "    print('Yes')"
   ]
  },
  {
   "cell_type": "code",
   "execution_count": 10,
   "metadata": {},
   "outputs": [
    {
     "name": "stdout",
     "output_type": "stream",
     "text": [
      "[[0, 0, 0], [12, 2, 2], [2, 2, 2]]\n"
     ]
    }
   ],
   "source": [
    "print(zahyo)"
   ]
  },
  {
   "cell_type": "code",
   "execution_count": 37,
   "metadata": {},
   "outputs": [
    {
     "data": {
      "text/plain": [
       "False"
      ]
     },
     "execution_count": 37,
     "metadata": {},
     "output_type": "execute_result"
    }
   ],
   "source": [
    "False ^ False"
   ]
  },
  {
   "cell_type": "code",
   "execution_count": 3,
   "metadata": {},
   "outputs": [
    {
     "name": "stdout",
     "output_type": "stream",
     "text": [
      "1 2\n",
      "1 2\n"
     ]
    }
   ],
   "source": [
    "n= input()\n",
    "print(n)"
   ]
  },
  {
   "cell_type": "code",
   "execution_count": null,
   "metadata": {},
   "outputs": [],
   "source": []
  }
 ],
 "metadata": {
  "kernelspec": {
   "display_name": "Python 3",
   "language": "python",
   "name": "python3"
  },
  "language_info": {
   "codemirror_mode": {
    "name": "ipython",
    "version": 3
   },
   "file_extension": ".py",
   "mimetype": "text/x-python",
   "name": "python",
   "nbconvert_exporter": "python",
   "pygments_lexer": "ipython3",
   "version": "3.7.2"
  }
 },
 "nbformat": 4,
 "nbformat_minor": 2
}
